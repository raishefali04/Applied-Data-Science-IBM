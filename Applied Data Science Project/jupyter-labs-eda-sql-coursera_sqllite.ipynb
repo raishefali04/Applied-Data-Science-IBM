{
 "cells": [
  {
   "cell_type": "markdown",
   "metadata": {},
   "source": [
    "<p style=\"text-align:center\">\n",
    "    <a href=\"https://skills.network\" target=\"_blank\">\n",
    "    <img src=\"https://cf-courses-data.s3.us.cloud-object-storage.appdomain.cloud/assets/logos/SN_web_lightmode.png\" width=\"200\" alt=\"Skills Network Logo\">\n",
    "    </a>\n",
    "</p>\n",
    "\n",
    "<h1 align=center><font size = 5>Assignment: SQL Notebook for Peer Assignment</font></h1>\n",
    "\n",
    "Estimated time needed: **60** minutes.\n",
    "\n",
    "## Introduction\n",
    "Using this Python notebook you will:\n",
    "\n",
    "1.  Understand the Spacex DataSet\n",
    "2.  Load the dataset  into the corresponding table in a Db2 database\n",
    "3.  Execute SQL queries to answer assignment questions \n"
   ]
  },
  {
   "cell_type": "markdown",
   "metadata": {},
   "source": [
    "## Overview of the DataSet\n",
    "\n",
    "SpaceX has gained worldwide attention for a series of historic milestones. \n",
    "\n",
    "It is the only private company ever to return a spacecraft from low-earth orbit, which it first accomplished in December 2010.\n",
    "SpaceX advertises Falcon 9 rocket launches on its website with a cost of 62 million dollars wheras other providers cost upward of 165 million dollars each, much of the savings is because Space X can reuse the first stage. \n",
    "\n",
    "\n",
    "Therefore if we can determine if the first stage will land, we can determine the cost of a launch. \n",
    "\n",
    "This information can be used if an alternate company wants to bid against SpaceX for a rocket launch.\n",
    "\n",
    "This dataset includes a record for each payload carried during a SpaceX mission into outer space.\n"
   ]
  },
  {
   "cell_type": "markdown",
   "metadata": {},
   "source": [
    "### Download the datasets\n",
    "\n",
    "This assignment requires you to load the spacex dataset.\n",
    "\n",
    "In many cases the dataset to be analyzed is available as a .CSV (comma separated values) file, perhaps on the internet. Click on the link below to download and save the dataset (.CSV file):\n",
    "\n",
    " <a href=\"https://cf-courses-data.s3.us.cloud-object-storage.appdomain.cloud/IBM-DS0321EN-SkillsNetwork/labs/module_2/data/Spacex.csv\" target=\"_blank\">Spacex DataSet</a>\n",
    "\n"
   ]
  },
  {
   "cell_type": "code",
   "execution_count": 3,
   "metadata": {},
   "outputs": [
    {
     "name": "stdout",
     "output_type": "stream",
     "text": [
      "Requirement already satisfied: sqlalchemy==1.3.9 in /opt/conda/lib/python3.11/site-packages (1.3.9)\n"
     ]
    }
   ],
   "source": [
    "!pip install sqlalchemy==1.3.9\n"
   ]
  },
  {
   "cell_type": "markdown",
   "metadata": {},
   "source": [
    "### Connect to the database\n",
    "\n",
    "Let us first load the SQL extension and establish a connection with the database\n"
   ]
  },
  {
   "cell_type": "code",
   "execution_count": 4,
   "metadata": {},
   "outputs": [
    {
     "name": "stdout",
     "output_type": "stream",
     "text": [
      "Collecting ipython-sql\n",
      "  Downloading ipython_sql-0.5.0-py3-none-any.whl.metadata (17 kB)\n",
      "Collecting prettytable (from ipython-sql)\n",
      "  Downloading prettytable-3.12.0-py3-none-any.whl.metadata (30 kB)\n",
      "Requirement already satisfied: ipython in /opt/conda/lib/python3.11/site-packages (from ipython-sql) (8.22.2)\n",
      "Collecting sqlalchemy>=2.0 (from ipython-sql)\n",
      "  Downloading SQLAlchemy-2.0.36-cp311-cp311-manylinux_2_17_x86_64.manylinux2014_x86_64.whl.metadata (9.7 kB)\n",
      "Collecting sqlparse (from ipython-sql)\n",
      "  Downloading sqlparse-0.5.3-py3-none-any.whl.metadata (3.9 kB)\n",
      "Requirement already satisfied: six in /opt/conda/lib/python3.11/site-packages (from ipython-sql) (1.16.0)\n",
      "Requirement already satisfied: ipython-genutils in /opt/conda/lib/python3.11/site-packages (from ipython-sql) (0.2.0)\n",
      "Requirement already satisfied: typing-extensions>=4.6.0 in /opt/conda/lib/python3.11/site-packages (from sqlalchemy>=2.0->ipython-sql) (4.12.2)\n",
      "Requirement already satisfied: greenlet!=0.4.17 in /opt/conda/lib/python3.11/site-packages (from sqlalchemy>=2.0->ipython-sql) (3.0.3)\n",
      "Requirement already satisfied: decorator in /opt/conda/lib/python3.11/site-packages (from ipython->ipython-sql) (5.1.1)\n",
      "Requirement already satisfied: jedi>=0.16 in /opt/conda/lib/python3.11/site-packages (from ipython->ipython-sql) (0.19.1)\n",
      "Requirement already satisfied: matplotlib-inline in /opt/conda/lib/python3.11/site-packages (from ipython->ipython-sql) (0.1.7)\n",
      "Requirement already satisfied: prompt-toolkit<3.1.0,>=3.0.41 in /opt/conda/lib/python3.11/site-packages (from ipython->ipython-sql) (3.0.42)\n",
      "Requirement already satisfied: pygments>=2.4.0 in /opt/conda/lib/python3.11/site-packages (from ipython->ipython-sql) (2.18.0)\n",
      "Requirement already satisfied: stack-data in /opt/conda/lib/python3.11/site-packages (from ipython->ipython-sql) (0.6.2)\n",
      "Requirement already satisfied: traitlets>=5.13.0 in /opt/conda/lib/python3.11/site-packages (from ipython->ipython-sql) (5.14.3)\n",
      "Requirement already satisfied: pexpect>4.3 in /opt/conda/lib/python3.11/site-packages (from ipython->ipython-sql) (4.9.0)\n",
      "Requirement already satisfied: wcwidth in /opt/conda/lib/python3.11/site-packages (from prettytable->ipython-sql) (0.2.13)\n",
      "Requirement already satisfied: parso<0.9.0,>=0.8.3 in /opt/conda/lib/python3.11/site-packages (from jedi>=0.16->ipython->ipython-sql) (0.8.4)\n",
      "Requirement already satisfied: ptyprocess>=0.5 in /opt/conda/lib/python3.11/site-packages (from pexpect>4.3->ipython->ipython-sql) (0.7.0)\n",
      "Requirement already satisfied: executing>=1.2.0 in /opt/conda/lib/python3.11/site-packages (from stack-data->ipython->ipython-sql) (2.0.1)\n",
      "Requirement already satisfied: asttokens>=2.1.0 in /opt/conda/lib/python3.11/site-packages (from stack-data->ipython->ipython-sql) (2.4.1)\n",
      "Requirement already satisfied: pure-eval in /opt/conda/lib/python3.11/site-packages (from stack-data->ipython->ipython-sql) (0.2.2)\n",
      "Downloading ipython_sql-0.5.0-py3-none-any.whl (20 kB)\n",
      "Downloading SQLAlchemy-2.0.36-cp311-cp311-manylinux_2_17_x86_64.manylinux2014_x86_64.whl (3.2 MB)\n",
      "\u001b[2K   \u001b[90m━━━━━━━━━━━━━━━━━━━━━━━━━━━━━━━━━━━━━━━━\u001b[0m \u001b[32m3.2/3.2 MB\u001b[0m \u001b[31m104.1 MB/s\u001b[0m eta \u001b[36m0:00:00\u001b[0m\n",
      "\u001b[?25hDownloading prettytable-3.12.0-py3-none-any.whl (31 kB)\n",
      "Downloading sqlparse-0.5.3-py3-none-any.whl (44 kB)\n",
      "\u001b[2K   \u001b[90m━━━━━━━━━━━━━━━━━━━━━━━━━━━━━━━━━━━━━━━━\u001b[0m \u001b[32m44.4/44.4 kB\u001b[0m \u001b[31m5.5 MB/s\u001b[0m eta \u001b[36m0:00:00\u001b[0m\n",
      "\u001b[?25hInstalling collected packages: sqlparse, sqlalchemy, prettytable, ipython-sql\n",
      "  Attempting uninstall: sqlalchemy\n",
      "    Found existing installation: SQLAlchemy 1.3.9\n",
      "    Uninstalling SQLAlchemy-1.3.9:\n",
      "      Successfully uninstalled SQLAlchemy-1.3.9\n",
      "Successfully installed ipython-sql-0.5.0 prettytable-3.12.0 sqlalchemy-2.0.36 sqlparse-0.5.3\n",
      "Requirement already satisfied: ipython-sql in /opt/conda/lib/python3.11/site-packages (0.5.0)\n",
      "Requirement already satisfied: prettytable in /opt/conda/lib/python3.11/site-packages (3.12.0)\n",
      "Requirement already satisfied: ipython in /opt/conda/lib/python3.11/site-packages (from ipython-sql) (8.22.2)\n",
      "Requirement already satisfied: sqlalchemy>=2.0 in /opt/conda/lib/python3.11/site-packages (from ipython-sql) (2.0.36)\n",
      "Requirement already satisfied: sqlparse in /opt/conda/lib/python3.11/site-packages (from ipython-sql) (0.5.3)\n",
      "Requirement already satisfied: six in /opt/conda/lib/python3.11/site-packages (from ipython-sql) (1.16.0)\n",
      "Requirement already satisfied: ipython-genutils in /opt/conda/lib/python3.11/site-packages (from ipython-sql) (0.2.0)\n",
      "Requirement already satisfied: wcwidth in /opt/conda/lib/python3.11/site-packages (from prettytable) (0.2.13)\n",
      "Requirement already satisfied: typing-extensions>=4.6.0 in /opt/conda/lib/python3.11/site-packages (from sqlalchemy>=2.0->ipython-sql) (4.12.2)\n",
      "Requirement already satisfied: greenlet!=0.4.17 in /opt/conda/lib/python3.11/site-packages (from sqlalchemy>=2.0->ipython-sql) (3.0.3)\n",
      "Requirement already satisfied: decorator in /opt/conda/lib/python3.11/site-packages (from ipython->ipython-sql) (5.1.1)\n",
      "Requirement already satisfied: jedi>=0.16 in /opt/conda/lib/python3.11/site-packages (from ipython->ipython-sql) (0.19.1)\n",
      "Requirement already satisfied: matplotlib-inline in /opt/conda/lib/python3.11/site-packages (from ipython->ipython-sql) (0.1.7)\n",
      "Requirement already satisfied: prompt-toolkit<3.1.0,>=3.0.41 in /opt/conda/lib/python3.11/site-packages (from ipython->ipython-sql) (3.0.42)\n",
      "Requirement already satisfied: pygments>=2.4.0 in /opt/conda/lib/python3.11/site-packages (from ipython->ipython-sql) (2.18.0)\n",
      "Requirement already satisfied: stack-data in /opt/conda/lib/python3.11/site-packages (from ipython->ipython-sql) (0.6.2)\n",
      "Requirement already satisfied: traitlets>=5.13.0 in /opt/conda/lib/python3.11/site-packages (from ipython->ipython-sql) (5.14.3)\n",
      "Requirement already satisfied: pexpect>4.3 in /opt/conda/lib/python3.11/site-packages (from ipython->ipython-sql) (4.9.0)\n",
      "Requirement already satisfied: parso<0.9.0,>=0.8.3 in /opt/conda/lib/python3.11/site-packages (from jedi>=0.16->ipython->ipython-sql) (0.8.4)\n",
      "Requirement already satisfied: ptyprocess>=0.5 in /opt/conda/lib/python3.11/site-packages (from pexpect>4.3->ipython->ipython-sql) (0.7.0)\n",
      "Requirement already satisfied: executing>=1.2.0 in /opt/conda/lib/python3.11/site-packages (from stack-data->ipython->ipython-sql) (2.0.1)\n",
      "Requirement already satisfied: asttokens>=2.1.0 in /opt/conda/lib/python3.11/site-packages (from stack-data->ipython->ipython-sql) (2.4.1)\n",
      "Requirement already satisfied: pure-eval in /opt/conda/lib/python3.11/site-packages (from stack-data->ipython->ipython-sql) (0.2.2)\n"
     ]
    }
   ],
   "source": [
    "!pip install ipython-sql\n",
    "!pip install ipython-sql prettytable"
   ]
  },
  {
   "cell_type": "code",
   "execution_count": 5,
   "metadata": {},
   "outputs": [],
   "source": [
    "%load_ext sql"
   ]
  },
  {
   "cell_type": "code",
   "execution_count": 6,
   "metadata": {},
   "outputs": [],
   "source": [
    "import csv, sqlite3\n",
    "import prettytable\n",
    "prettytable.DEFAULT = 'DEFAULT'\n",
    "\n",
    "con = sqlite3.connect(\"my_data1.db\")\n",
    "cur = con.cursor()"
   ]
  },
  {
   "cell_type": "code",
   "execution_count": 7,
   "metadata": {},
   "outputs": [],
   "source": [
    "!pip install -q pandas"
   ]
  },
  {
   "cell_type": "code",
   "execution_count": 8,
   "metadata": {},
   "outputs": [],
   "source": [
    "%sql sqlite:///my_data1.db"
   ]
  },
  {
   "cell_type": "code",
   "execution_count": 9,
   "metadata": {},
   "outputs": [
    {
     "data": {
      "text/plain": [
       "101"
      ]
     },
     "execution_count": 9,
     "metadata": {},
     "output_type": "execute_result"
    }
   ],
   "source": [
    "import pandas as pd\n",
    "df = pd.read_csv(\"https://cf-courses-data.s3.us.cloud-object-storage.appdomain.cloud/IBM-DS0321EN-SkillsNetwork/labs/module_2/data/Spacex.csv\")\n",
    "df.to_sql(\"SPACEXTBL\", con, if_exists='replace', index=False,method=\"multi\")"
   ]
  },
  {
   "cell_type": "markdown",
   "metadata": {},
   "source": [
    "**Note:This below code is added to remove blank rows from table**\n"
   ]
  },
  {
   "cell_type": "code",
   "execution_count": 10,
   "metadata": {},
   "outputs": [
    {
     "name": "stdout",
     "output_type": "stream",
     "text": [
      " * sqlite:///my_data1.db\n",
      "Done.\n"
     ]
    },
    {
     "data": {
      "text/plain": [
       "[]"
      ]
     },
     "execution_count": 10,
     "metadata": {},
     "output_type": "execute_result"
    }
   ],
   "source": [
    "#DROP THE TABLE IF EXISTS\n",
    "\n",
    "%sql DROP TABLE IF EXISTS SPACEXTABLE;"
   ]
  },
  {
   "cell_type": "code",
   "execution_count": 11,
   "metadata": {},
   "outputs": [
    {
     "name": "stdout",
     "output_type": "stream",
     "text": [
      " * sqlite:///my_data1.db\n",
      "Done.\n"
     ]
    },
    {
     "data": {
      "text/plain": [
       "[]"
      ]
     },
     "execution_count": 11,
     "metadata": {},
     "output_type": "execute_result"
    }
   ],
   "source": [
    "%sql create table SPACEXTABLE as select * from SPACEXTBL where Date is not null"
   ]
  },
  {
   "cell_type": "markdown",
   "metadata": {},
   "source": [
    "## Tasks\n",
    "\n",
    "Now write and execute SQL queries to solve the assignment tasks.\n",
    "\n",
    "**Note: If the column names are in mixed case enclose it in double quotes\n",
    "   For Example \"Landing_Outcome\"**\n",
    "\n",
    "### Task 1\n",
    "\n",
    "\n",
    "\n",
    "\n",
    "##### Display the names of the unique launch sites  in the space mission\n"
   ]
  },
  {
   "cell_type": "code",
   "execution_count": 23,
   "metadata": {},
   "outputs": [
    {
     "name": "stdout",
     "output_type": "stream",
     "text": [
      "('LaunchSite',)\n"
     ]
    }
   ],
   "source": [
    "cur.execute('SELECT DISTINCT \"LaunchSite\" FROM SPACEXTABLE;')\n",
    "\n",
    "# Fetch the results\n",
    "launch_sites = cur.fetchall()\n",
    "\n",
    "# Print the results\n",
    "for site in launch_sites:\n",
    "    print(site)\n",
    "\n",
    "# Close the connection\n",
    "#conn.close()"
   ]
  },
  {
   "cell_type": "markdown",
   "metadata": {},
   "source": [
    "\n",
    "### Task 2\n",
    "\n",
    "\n",
    "#####  Display 5 records where launch sites begin with the string 'CCA' \n"
   ]
  },
  {
   "cell_type": "code",
   "execution_count": 25,
   "metadata": {},
   "outputs": [
    {
     "name": "stdout",
     "output_type": "stream",
     "text": [
      "No records found that match the condition.\n"
     ]
    }
   ],
   "source": [
    "cur.execute('SELECT * FROM SPACEXTABLE WHERE \"LaunchSite\" LIKE \"CCA%\" LIMIT 5;')\n",
    "\n",
    "# Fetch the results\n",
    "records = cur.fetchall()\n",
    "\n",
    "# Check if there are any records to print\n",
    "if records:\n",
    "    # Print the results\n",
    "    print(\"Records where LaunchSite begins with 'CCA':\")\n",
    "    for record in records:\n",
    "        print(record)\n",
    "else:\n",
    "    print(\"No records found that match the condition.\")\n"
   ]
  },
  {
   "cell_type": "markdown",
   "metadata": {},
   "source": [
    "### Task 3\n",
    "\n",
    "\n",
    "\n",
    "\n",
    "##### Display the total payload mass carried by boosters launched by NASA (CRS)\n"
   ]
  },
  {
   "cell_type": "code",
   "execution_count": 26,
   "metadata": {},
   "outputs": [
    {
     "name": "stdout",
     "output_type": "stream",
     "text": [
      "Total Payload Mass carried by NASA CRS launches: 0.0 kg\n"
     ]
    }
   ],
   "source": [
    "cur.execute('''\n",
    "    SELECT SUM(\"PayloadMass\") AS total_payload_mass\n",
    "    FROM SPACEXTABLE\n",
    "    WHERE \"Mission\" LIKE '%CRS%' OR \"Customer\" LIKE '%NASA%';\n",
    "''')\n",
    "\n",
    "# Fetch the result\n",
    "total_payload_mass = cur.fetchone()\n",
    "\n",
    "# Print the result\n",
    "if total_payload_mass:\n",
    "    print(f\"Total Payload Mass carried by NASA CRS launches: {total_payload_mass[0]} kg\")\n",
    "else:\n",
    "    print(\"No matching records found.\")"
   ]
  },
  {
   "cell_type": "markdown",
   "metadata": {},
   "source": [
    "### Task 4\n",
    "\n",
    "\n",
    "\n",
    "\n",
    "##### Display average payload mass carried by booster version F9 v1.1\n"
   ]
  },
  {
   "cell_type": "code",
   "execution_count": 27,
   "metadata": {},
   "outputs": [
    {
     "name": "stdout",
     "output_type": "stream",
     "text": [
      "Average Payload Mass carried by F9 v1.1: None kg\n"
     ]
    }
   ],
   "source": [
    "cur.execute('''\n",
    "    SELECT AVG(\"PayloadMass\") AS avg_payload_mass\n",
    "    FROM SPACEXTABLE\n",
    "    WHERE \"BoosterVersion\" = 'F9 v1.1';\n",
    "''')\n",
    "\n",
    "# Fetch the result\n",
    "avg_payload_mass = cur.fetchone()\n",
    "\n",
    "# Print the result\n",
    "if avg_payload_mass:\n",
    "    print(f\"Average Payload Mass carried by F9 v1.1: {avg_payload_mass[0]} kg\")\n",
    "else:\n",
    "    print(\"No matching records found.\")"
   ]
  },
  {
   "cell_type": "markdown",
   "metadata": {},
   "source": [
    "### Task 5\n",
    "\n",
    "##### List the date when the first succesful landing outcome in ground pad was acheived.\n",
    "\n",
    "\n",
    "_Hint:Use min function_ \n"
   ]
  },
  {
   "cell_type": "code",
   "execution_count": 28,
   "metadata": {},
   "outputs": [
    {
     "name": "stdout",
     "output_type": "stream",
     "text": [
      "First successful landing date on ground pad: 2018-07-22\n"
     ]
    }
   ],
   "source": [
    "cur.execute('''\n",
    "    SELECT MIN(\"Date\") AS first_successful_landing_date\n",
    "    FROM SPACEXTABLE\n",
    "    WHERE \"Landing_Outcome\" = 'Success' AND \"LandingPad\" IS NOT NULL;\n",
    "''')\n",
    "\n",
    "# Fetch the result\n",
    "first_landing_date = cur.fetchone()\n",
    "\n",
    "# Print the result\n",
    "if first_landing_date:\n",
    "    print(f\"First successful landing date on ground pad: {first_landing_date[0]}\")\n",
    "else:\n",
    "    print(\"No matching records found.\")"
   ]
  },
  {
   "cell_type": "markdown",
   "metadata": {},
   "source": [
    "### Task 6\n",
    "\n",
    "##### List the names of the boosters which have success in drone ship and have payload mass greater than 4000 but less than 6000\n"
   ]
  },
  {
   "cell_type": "code",
   "execution_count": 29,
   "metadata": {},
   "outputs": [
    {
     "name": "stdout",
     "output_type": "stream",
     "text": [
      "No matching boosters found.\n"
     ]
    }
   ],
   "source": [
    "cur.execute('''\n",
    "    SELECT DISTINCT \"BoosterVersion\"\n",
    "    FROM SPACEXTABLE\n",
    "    WHERE \"Landing_Outcome\" = 'Success'\n",
    "    AND \"LandingPad\" LIKE '%Drone Ship%' \n",
    "    AND \"PayloadMass\" > 4000 \n",
    "    AND \"PayloadMass\" < 6000;\n",
    "''')\n",
    "\n",
    "# Fetch the result\n",
    "boosters = cur.fetchall()\n",
    "\n",
    "# Print the result\n",
    "if boosters:\n",
    "    print(\"Boosters with successful landing on drone ship and payload mass between 4000 and 6000:\")\n",
    "    for booster in boosters:\n",
    "        print(booster[0])\n",
    "else:\n",
    "    print(\"No matching boosters found.\")\n"
   ]
  },
  {
   "cell_type": "markdown",
   "metadata": {},
   "source": [
    "### Task 7\n",
    "\n",
    "\n",
    "\n",
    "\n",
    "##### List the total number of successful and failure mission outcomes\n"
   ]
  },
  {
   "cell_type": "code",
   "execution_count": 31,
   "metadata": {},
   "outputs": [
    {
     "name": "stdout",
     "output_type": "stream",
     "text": [
      "Total number of successful and failed mission outcomes:\n",
      "Controlled (ocean): 5\n",
      "Failure: 3\n",
      "Failure (drone ship): 5\n",
      "Failure (parachute): 2\n",
      "No attempt: 21\n",
      "No attempt : 1\n",
      "Precluded (drone ship): 1\n",
      "Success: 38\n",
      "Success (drone ship): 14\n",
      "Success (ground pad): 9\n",
      "Uncontrolled (ocean): 2\n"
     ]
    }
   ],
   "source": [
    "cur.execute('''\n",
    "    SELECT \"Landing_Outcome\", COUNT(*) AS total_outcomes\n",
    "    FROM SPACEXTABLE\n",
    "    GROUP BY \"Landing_Outcome\";\n",
    "''')\n",
    "\n",
    "# Fetch the results\n",
    "outcomes = cur.fetchall()\n",
    "\n",
    "# Print the result\n",
    "if outcomes:\n",
    "    print(\"Total number of successful and failed mission outcomes:\")\n",
    "    for outcome in outcomes:\n",
    "        print(f\"{outcome[0]}: {outcome[1]}\")  # outcome[0] is the Landing_Outcome and outcome[1] is the count\n",
    "else:\n",
    "    print(\"No matching mission outcomes found.\")"
   ]
  },
  {
   "cell_type": "markdown",
   "metadata": {},
   "source": [
    "### Task 8\n",
    "\n",
    "\n",
    "\n",
    "##### List the   names of the booster_versions which have carried the maximum payload mass. Use a subquery\n"
   ]
  },
  {
   "cell_type": "code",
   "execution_count": 32,
   "metadata": {},
   "outputs": [
    {
     "name": "stdout",
     "output_type": "stream",
     "text": [
      "Booster versions that carried the maximum payload mass:\n",
      "BoosterVersion\n",
      "BoosterVersion\n",
      "BoosterVersion\n",
      "BoosterVersion\n",
      "BoosterVersion\n",
      "BoosterVersion\n",
      "BoosterVersion\n",
      "BoosterVersion\n",
      "BoosterVersion\n",
      "BoosterVersion\n",
      "BoosterVersion\n",
      "BoosterVersion\n",
      "BoosterVersion\n",
      "BoosterVersion\n",
      "BoosterVersion\n",
      "BoosterVersion\n",
      "BoosterVersion\n",
      "BoosterVersion\n",
      "BoosterVersion\n",
      "BoosterVersion\n",
      "BoosterVersion\n",
      "BoosterVersion\n",
      "BoosterVersion\n",
      "BoosterVersion\n",
      "BoosterVersion\n",
      "BoosterVersion\n",
      "BoosterVersion\n",
      "BoosterVersion\n",
      "BoosterVersion\n",
      "BoosterVersion\n",
      "BoosterVersion\n",
      "BoosterVersion\n",
      "BoosterVersion\n",
      "BoosterVersion\n",
      "BoosterVersion\n",
      "BoosterVersion\n",
      "BoosterVersion\n",
      "BoosterVersion\n",
      "BoosterVersion\n",
      "BoosterVersion\n",
      "BoosterVersion\n",
      "BoosterVersion\n",
      "BoosterVersion\n",
      "BoosterVersion\n",
      "BoosterVersion\n",
      "BoosterVersion\n",
      "BoosterVersion\n",
      "BoosterVersion\n",
      "BoosterVersion\n",
      "BoosterVersion\n",
      "BoosterVersion\n",
      "BoosterVersion\n",
      "BoosterVersion\n",
      "BoosterVersion\n",
      "BoosterVersion\n",
      "BoosterVersion\n",
      "BoosterVersion\n",
      "BoosterVersion\n",
      "BoosterVersion\n",
      "BoosterVersion\n",
      "BoosterVersion\n",
      "BoosterVersion\n",
      "BoosterVersion\n",
      "BoosterVersion\n",
      "BoosterVersion\n",
      "BoosterVersion\n",
      "BoosterVersion\n",
      "BoosterVersion\n",
      "BoosterVersion\n",
      "BoosterVersion\n",
      "BoosterVersion\n",
      "BoosterVersion\n",
      "BoosterVersion\n",
      "BoosterVersion\n",
      "BoosterVersion\n",
      "BoosterVersion\n",
      "BoosterVersion\n",
      "BoosterVersion\n",
      "BoosterVersion\n",
      "BoosterVersion\n",
      "BoosterVersion\n",
      "BoosterVersion\n",
      "BoosterVersion\n",
      "BoosterVersion\n",
      "BoosterVersion\n",
      "BoosterVersion\n",
      "BoosterVersion\n",
      "BoosterVersion\n",
      "BoosterVersion\n",
      "BoosterVersion\n",
      "BoosterVersion\n",
      "BoosterVersion\n",
      "BoosterVersion\n",
      "BoosterVersion\n",
      "BoosterVersion\n",
      "BoosterVersion\n",
      "BoosterVersion\n",
      "BoosterVersion\n",
      "BoosterVersion\n",
      "BoosterVersion\n",
      "BoosterVersion\n"
     ]
    }
   ],
   "source": [
    "cur.execute('''\n",
    "    SELECT \"BoosterVersion\"\n",
    "    FROM SPACEXTABLE\n",
    "    WHERE \"PayloadMass\" = (\n",
    "        SELECT MAX(\"PayloadMass\") \n",
    "        FROM SPACEXTABLE\n",
    "    );\n",
    "''')\n",
    "\n",
    "# Fetch the result\n",
    "boosters = cur.fetchall()\n",
    "\n",
    "# Print the result\n",
    "if boosters:\n",
    "    print(\"Booster versions that carried the maximum payload mass:\")\n",
    "    for booster in boosters:\n",
    "        print(booster[0])\n",
    "else:\n",
    "    print(\"No matching boosters found.\")"
   ]
  },
  {
   "cell_type": "markdown",
   "metadata": {},
   "source": [
    "### Task 9\n",
    "\n",
    "\n",
    "##### List the records which will display the month names, failure landing_outcomes in drone ship ,booster versions, launch_site for the months in year 2015.\n",
    "\n",
    "**Note: SQLLite does not support monthnames. So you need to use  substr(Date, 6,2) as month to get the months and substr(Date,0,5)='2015' for year.**\n"
   ]
  },
  {
   "cell_type": "code",
   "execution_count": 33,
   "metadata": {},
   "outputs": [
    {
     "name": "stdout",
     "output_type": "stream",
     "text": [
      "No matching records found.\n"
     ]
    }
   ],
   "source": [
    "cur.execute('''\n",
    "    SELECT \n",
    "        CASE \n",
    "            WHEN substr(\"Date\", 6, 2) = '01' THEN 'January'\n",
    "            WHEN substr(\"Date\", 6, 2) = '02' THEN 'February'\n",
    "            WHEN substr(\"Date\", 6, 2) = '03' THEN 'March'\n",
    "            WHEN substr(\"Date\", 6, 2) = '04' THEN 'April'\n",
    "            WHEN substr(\"Date\", 6, 2) = '05' THEN 'May'\n",
    "            WHEN substr(\"Date\", 6, 2) = '06' THEN 'June'\n",
    "            WHEN substr(\"Date\", 6, 2) = '07' THEN 'July'\n",
    "            WHEN substr(\"Date\", 6, 2) = '08' THEN 'August'\n",
    "            WHEN substr(\"Date\", 6, 2) = '09' THEN 'September'\n",
    "            WHEN substr(\"Date\", 6, 2) = '10' THEN 'October'\n",
    "            WHEN substr(\"Date\", 6, 2) = '11' THEN 'November'\n",
    "            WHEN substr(\"Date\", 6, 2) = '12' THEN 'December'\n",
    "        END AS Month,\n",
    "        \"Landing_Outcome\", \n",
    "        \"BoosterVersion\", \n",
    "        \"LandingPad\", \n",
    "        \"LaunchSite\"\n",
    "    FROM SPACEXTABLE\n",
    "    WHERE substr(\"Date\", 0, 5) = '2015'\n",
    "      AND \"Landing_Outcome\" = 'Failure'\n",
    "      AND \"LandingPad\" LIKE '%Drone Ship%';\n",
    "''')\n",
    "\n",
    "# Fetch the results\n",
    "records = cur.fetchall()\n",
    "\n",
    "# Print the result\n",
    "if records:\n",
    "    print(\"Failed landing outcomes on drone ships in 2015:\")\n",
    "    for record in records:\n",
    "        print(f\"Month: {record[0]}, Outcome: {record[1]}, Booster: {record[2]}, LandingPad: {record[3]}, LaunchSite: {record[4]}\")\n",
    "else:\n",
    "    print(\"No matching records found.\")"
   ]
  },
  {
   "cell_type": "markdown",
   "metadata": {},
   "source": [
    "### Task 10\n",
    "\n",
    "\n",
    "\n",
    "\n",
    "##### Rank the count of landing outcomes (such as Failure (drone ship) or Success (ground pad)) between the date 2010-06-04 and 2017-03-20, in descending order.\n"
   ]
  },
  {
   "cell_type": "code",
   "execution_count": null,
   "metadata": {},
   "outputs": [],
   "source": []
  },
  {
   "cell_type": "markdown",
   "metadata": {},
   "source": [
    "### Reference Links\n",
    "\n",
    "* <a href =\"https://cf-courses-data.s3.us.cloud-object-storage.appdomain.cloud/IBMDeveloperSkillsNetwork-DB0201EN-SkillsNetwork/labs/Labs_Coursera_V5/labs/Lab%20-%20String%20Patterns%20-%20Sorting%20-%20Grouping/instructional-labs.md.html?origin=www.coursera.org\">Hands-on Lab : String Patterns, Sorting and Grouping</a>  \n",
    "\n",
    "*  <a  href=\"https://cf-courses-data.s3.us.cloud-object-storage.appdomain.cloud/IBMDeveloperSkillsNetwork-DB0201EN-SkillsNetwork/labs/Labs_Coursera_V5/labs/Lab%20-%20Built-in%20functions%20/Hands-on_Lab__Built-in_Functions.md.html?origin=www.coursera.org\">Hands-on Lab: Built-in functions</a>\n",
    "\n",
    "*  <a  href=\"https://cf-courses-data.s3.us.cloud-object-storage.appdomain.cloud/IBMDeveloperSkillsNetwork-DB0201EN-SkillsNetwork/labs/Labs_Coursera_V5/labs/Lab%20-%20Sub-queries%20and%20Nested%20SELECTs%20/instructional-labs.md.html?origin=www.coursera.org\">Hands-on Lab : Sub-queries and Nested SELECT Statements</a>\n",
    "\n",
    "*   <a href=\"https://cf-courses-data.s3.us.cloud-object-storage.appdomain.cloud/IBMDeveloperSkillsNetwork-DB0201EN-SkillsNetwork/labs/Module%205/DB0201EN-Week3-1-3-SQLmagic.ipynb\">Hands-on Tutorial: Accessing Databases with SQL magic</a>\n",
    "\n",
    "*  <a href= \"https://cf-courses-data.s3.us.cloud-object-storage.appdomain.cloud/IBMDeveloperSkillsNetwork-DB0201EN-SkillsNetwork/labs/Module%205/DB0201EN-Week3-1-4-Analyzing.ipynb\">Hands-on Lab: Analyzing a real World Data Set</a>\n",
    "\n",
    "\n"
   ]
  },
  {
   "cell_type": "markdown",
   "metadata": {},
   "source": [
    "## Author(s)\n",
    "\n",
    "<h4> Lakshmi Holla </h4>\n"
   ]
  },
  {
   "cell_type": "markdown",
   "metadata": {},
   "source": [
    "## Other Contributors\n",
    "\n",
    "<h4> Rav Ahuja </h4>\n"
   ]
  },
  {
   "cell_type": "markdown",
   "metadata": {},
   "source": [
    "<!--\n",
    "## Change log\n",
    "| Date | Version | Changed by | Change Description |\n",
    "|------|--------|--------|---------|\n",
    "| 2024-07-10 | 1.1 |Anita Verma | Changed Version|\n",
    "| 2021-07-09 | 0.2 |Lakshmi Holla | Changes made in magic sql|\n",
    "| 2021-05-20 | 0.1 |Lakshmi Holla | Created Initial Version |\n",
    "-->\n"
   ]
  },
  {
   "cell_type": "markdown",
   "metadata": {},
   "source": [
    "## <h3 align=\"center\"> © IBM Corporation 2021. All rights reserved. <h3/>\n"
   ]
  }
 ],
 "metadata": {
  "kernelspec": {
   "display_name": "Python 3 (ipykernel)",
   "language": "python",
   "name": "python3"
  },
  "language_info": {
   "codemirror_mode": {
    "name": "ipython",
    "version": 3
   },
   "file_extension": ".py",
   "mimetype": "text/x-python",
   "name": "python",
   "nbconvert_exporter": "python",
   "pygments_lexer": "ipython3",
   "version": "3.11.9"
  },
  "prev_pub_hash": "da902c2e8070fbe82a1211fe564834ebcb50f7fc45ad4040b3068861f12c70b8"
 },
 "nbformat": 4,
 "nbformat_minor": 4
}
